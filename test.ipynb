{
 "cells": [
  {
   "cell_type": "code",
   "execution_count": null,
   "id": "677ec953",
   "metadata": {},
   "outputs": [],
   "source": [
    "from models_TCDF import *\n",
    "import multiprocessing\n",
    "multiprocessing.set_start_method('spawn', force=True)"
   ]
  },
  {
   "cell_type": "code",
   "execution_count": null,
   "id": "72edf476",
   "metadata": {},
   "outputs": [],
   "source": [
    "params = {\n",
    "    'epochs': 30,\n",
    "    'kernel_size': 3,\n",
    "    'layers': 3,\n",
    "    'dilation_c': 2,\n",
    "    'lr': 0.01,\n",
    "    'optimizername': 'Adam',\n",
    "    'significance': 0.2\n",
    "}\n",
    "\n",
    "adj_matrix, columns = compute_causal_matrix(\"200003.csv\", params)\n",
    "adj_matrix"
   ]
  }
 ],
 "metadata": {
  "kernelspec": {
   "display_name": "data",
   "language": "python",
   "name": "python3"
  },
  "language_info": {
   "name": "python",
   "version": "3.8.20"
  }
 },
 "nbformat": 4,
 "nbformat_minor": 5
}
