{
 "cells": [
  {
   "cell_type": "code",
   "execution_count": 1,
   "id": "182b4fdb",
   "metadata": {},
   "outputs": [],
   "source": [
    "from models_impute import *"
   ]
  },
  {
   "cell_type": "code",
   "execution_count": 2,
   "id": "0628c3d8",
   "metadata": {},
   "outputs": [],
   "source": [
    "import os\n",
    "import glob\n",
    "import numpy as np\n",
    "import pandas as pd\n",
    "\n",
    "def load_csvs_as_numpy_array(directory):\n",
    "    # 匹配目录下所有 .csv 文件\n",
    "    csv_files = glob.glob(os.path.join(directory, '*.csv'))\n",
    "\n",
    "    data_arrays = []\n",
    "    for file in csv_files:\n",
    "        df = pd.read_csv(file)      # 读取 CSV\n",
    "        data = df.values            # 转为 NumPy 数组\n",
    "        data_arrays.append(data)    # 加入列表\n",
    "\n",
    "    return data_arrays  # 返回的是 list[np.ndarray]\n"
   ]
  },
  {
   "cell_type": "code",
   "execution_count": 3,
   "id": "80f39c4a",
   "metadata": {},
   "outputs": [],
   "source": [
    "np_arr = load_csvs_as_numpy_array('data')"
   ]
  },
  {
   "cell_type": "code",
   "execution_count": 4,
   "id": "d6a0037b",
   "metadata": {},
   "outputs": [
    {
     "data": {
      "text/plain": [
       "[array([[19.,  4., 15., ..., nan, nan, nan],\n",
       "        [nan, nan, nan, ..., nan, nan, nan],\n",
       "        [nan, nan, nan, ..., nan, nan, nan],\n",
       "        ...,\n",
       "        [nan, nan, nan, ..., nan, nan, nan],\n",
       "        [nan, nan, nan, ..., nan, nan, nan],\n",
       "        [nan, nan, nan, ..., nan, nan, nan]]),\n",
       " array([[nan, nan, nan, ..., nan, nan, nan],\n",
       "        [nan, nan, nan, ..., nan, nan, nan],\n",
       "        [nan, nan, nan, ..., nan, nan, nan],\n",
       "        ...,\n",
       "        [nan, nan, nan, ..., nan, nan, nan],\n",
       "        [nan, nan, nan, ..., nan, nan, nan],\n",
       "        [nan, nan, nan, ..., nan, nan, nan]]),\n",
       " array([[nan, nan, nan, ..., nan, nan, nan],\n",
       "        [nan, nan, nan, ..., nan, nan, nan],\n",
       "        [nan, nan, nan, ..., nan, nan, nan],\n",
       "        ...,\n",
       "        [nan, nan, nan, ..., nan, nan, nan],\n",
       "        [nan, nan, nan, ..., nan, nan, nan],\n",
       "        [nan, nan, nan, ..., nan, nan, nan]])]"
      ]
     },
     "execution_count": 4,
     "metadata": {},
     "output_type": "execute_result"
    }
   ],
   "source": [
    "np_arr"
   ]
  },
  {
   "cell_type": "code",
   "execution_count": 5,
   "id": "2df43199",
   "metadata": {},
   "outputs": [
    {
     "name": "stderr",
     "output_type": "stream",
     "text": [
      "d:\\conda\\envs\\data\\lib\\site-packages\\joblib\\externals\\loky\\backend\\context.py:136: UserWarning: Could not find the number of physical cores for the following reason:\n",
      "[WinError 2] 系统找不到指定的文件。\n",
      "Returning the number of logical cores instead. You can silence this warning by setting LOKY_MAX_CPU_COUNT to the number of cores you want to use.\n",
      "  warnings.warn(\n",
      "  File \"d:\\conda\\envs\\data\\lib\\site-packages\\joblib\\externals\\loky\\backend\\context.py\", line 257, in _count_physical_cores\n",
      "    cpu_info = subprocess.run(\n",
      "  File \"d:\\conda\\envs\\data\\lib\\subprocess.py\", line 493, in run\n",
      "    with Popen(*popenargs, **kwargs) as process:\n",
      "  File \"d:\\conda\\envs\\data\\lib\\subprocess.py\", line 858, in __init__\n",
      "    self._execute_child(args, executable, preexec_fn, close_fds,\n",
      "  File \"d:\\conda\\envs\\data\\lib\\subprocess.py\", line 1327, in _execute_child\n",
      "    hp, ht, pid, tid = _winapi.CreateProcess(executable, args,\n",
      "d:\\conda\\envs\\data\\lib\\site-packages\\sklearn\\cluster\\_kmeans.py:1436: UserWarning: KMeans is known to have a memory leak on Windows with MKL, when there are less chunks than available threads. You can avoid it by setting the environment variable OMP_NUM_THREADS=1.\n",
      "  warnings.warn(\n"
     ]
    }
   ],
   "source": [
    "cg = causal_discovery(np_arr, 3)"
   ]
  },
  {
   "cell_type": "code",
   "execution_count": 6,
   "id": "6296c21e",
   "metadata": {},
   "outputs": [
    {
     "name": "stdout",
     "output_type": "stream",
     "text": [
      "<class 'numpy.ndarray'>\n"
     ]
    }
   ],
   "source": [
    "# cg = pd.DataFrame(cg)\n",
    "cg = cg\n",
    "print(type(cg))\n"
   ]
  },
  {
   "cell_type": "code",
   "execution_count": 7,
   "id": "497ff41b",
   "metadata": {},
   "outputs": [
    {
     "name": "stderr",
     "output_type": "stream",
     "text": [
      "d:\\conda\\envs\\data\\lib\\site-packages\\torch\\optim\\lr_scheduler.py:60: UserWarning: The verbose parameter is deprecated. Please use get_last_lr() to access the learning rate.\n",
      "  warnings.warn(\n"
     ]
    }
   ],
   "source": [
    "dat = pd.read_csv('data/200003.csv')\n",
    "model_params = {\n",
    "    'num_levels': 6,\n",
    "    'kernel_size': 6,\n",
    "    'dilation_c': 4,\n",
    "    }\n",
    "dat = dat.values  # 转为 NumPy 数组\n",
    "dat = impute(dat, cg, model_params=model_params)\n"
   ]
  },
  {
   "cell_type": "code",
   "execution_count": null,
   "id": "667a1ea7",
   "metadata": {},
   "outputs": [
    {
     "name": "stderr",
     "output_type": "stream",
     "text": [
      "2025-05-25 21:19:41 [WARNING]: hit_rate=106.66666666666669 > 1\n"
     ]
    },
    {
     "ename": "TypeError",
     "evalue": "'NoneType' object is not subscriptable",
     "output_type": "error",
     "traceback": [
      "\u001b[1;31m---------------------------------------------------------------------------\u001b[0m",
      "\u001b[1;31mTypeError\u001b[0m                                 Traceback (most recent call last)",
      "Cell \u001b[1;32mIn[8], line 1\u001b[0m\n\u001b[1;32m----> 1\u001b[0m re \u001b[38;5;241m=\u001b[39m \u001b[43mmse_evaluate\u001b[49m\u001b[43m(\u001b[49m\u001b[43mdat\u001b[49m\u001b[43m)\u001b[49m\n",
      "File \u001b[1;32me:\\cslearning_sophomore_second\\causal_dis\\newCode\\models_impute.py:146\u001b[0m, in \u001b[0;36mmse_evaluate\u001b[1;34m(mx)\u001b[0m\n\u001b[0;32m    144\u001b[0m X_with_block_missing_data \u001b[38;5;241m=\u001b[39m block_missing(mx, factor\u001b[38;5;241m=\u001b[39m\u001b[38;5;241m0.1\u001b[39m, block_width\u001b[38;5;241m=\u001b[39m\u001b[38;5;241m3\u001b[39m, block_len\u001b[38;5;241m=\u001b[39m\u001b[38;5;241m3\u001b[39m)\n\u001b[0;32m    145\u001b[0m X_with_block_missing_data \u001b[38;5;241m=\u001b[39m np\u001b[38;5;241m.\u001b[39msqueeze(X_with_block_missing_data, axis\u001b[38;5;241m=\u001b[39m\u001b[38;5;241m0\u001b[39m)\n\u001b[1;32m--> 146\u001b[0m my_model \u001b[38;5;241m=\u001b[39m \u001b[43mimpute\u001b[49m\u001b[43m(\u001b[49m\u001b[43mX_with_block_missing_data\u001b[49m\u001b[43m,\u001b[49m\u001b[43m \u001b[49m\u001b[38;5;28;43;01mNone\u001b[39;49;00m\u001b[43m,\u001b[49m\n\u001b[0;32m    147\u001b[0m \u001b[43m                  \u001b[49m\u001b[43mmodel_params\u001b[49m\u001b[38;5;241;43m=\u001b[39;49m\u001b[43m{\u001b[49m\u001b[38;5;124;43m'\u001b[39;49m\u001b[38;5;124;43mlayers\u001b[39;49m\u001b[38;5;124;43m'\u001b[39;49m\u001b[43m:\u001b[49m\u001b[43m \u001b[49m\u001b[38;5;241;43m6\u001b[39;49m\u001b[43m,\u001b[49m\u001b[43m \u001b[49m\u001b[38;5;124;43m'\u001b[39;49m\u001b[38;5;124;43mkernel_size\u001b[39;49m\u001b[38;5;124;43m'\u001b[39;49m\u001b[43m:\u001b[49m\u001b[43m \u001b[49m\u001b[38;5;241;43m6\u001b[39;49m\u001b[43m,\u001b[49m\u001b[43m \u001b[49m\u001b[38;5;124;43m'\u001b[39;49m\u001b[38;5;124;43mdilation_c\u001b[39;49m\u001b[38;5;124;43m'\u001b[39;49m\u001b[43m:\u001b[49m\u001b[43m \u001b[49m\u001b[38;5;241;43m4\u001b[39;49m\u001b[43m}\u001b[49m\u001b[43m,\u001b[49m\u001b[43m \u001b[49m\n\u001b[0;32m    148\u001b[0m \u001b[43m                  \u001b[49m\u001b[43mepochs\u001b[49m\u001b[38;5;241;43m=\u001b[39;49m\u001b[38;5;241;43m100\u001b[39;49m\u001b[43m,\u001b[49m\u001b[43m \u001b[49m\u001b[43mlr\u001b[49m\u001b[38;5;241;43m=\u001b[39;49m\u001b[38;5;241;43m0.01\u001b[39;49m\u001b[43m,\u001b[49m\u001b[43m \u001b[49m\u001b[43mgpu_id\u001b[49m\u001b[38;5;241;43m=\u001b[39;49m\u001b[38;5;28;43;01mNone\u001b[39;49;00m\u001b[43m)\u001b[49m\n\u001b[0;32m    150\u001b[0m zero_impu \u001b[38;5;241m=\u001b[39m zero_impu(mx)\n\u001b[0;32m    151\u001b[0m mean_impu \u001b[38;5;241m=\u001b[39m meam_impu(mx)\n",
      "File \u001b[1;32me:\\cslearning_sophomore_second\\causal_dis\\newCode\\models_impute.py:38\u001b[0m, in \u001b[0;36mimpute\u001b[1;34m(original, causal_matrix, model_params, epochs, lr, gpu_id)\u001b[0m\n\u001b[0;32m     36\u001b[0m sequence_len, total_features \u001b[38;5;241m=\u001b[39m initial_filled\u001b[38;5;241m.\u001b[39mshape\n\u001b[0;32m     37\u001b[0m \u001b[38;5;28;01mfor\u001b[39;00m target \u001b[38;5;129;01min\u001b[39;00m \u001b[38;5;28mrange\u001b[39m(total_features):\n\u001b[1;32m---> 38\u001b[0m     inds \u001b[38;5;241m=\u001b[39m \u001b[38;5;28mlist\u001b[39m(np\u001b[38;5;241m.\u001b[39mwhere(\u001b[43mcausal_matrix\u001b[49m\u001b[43m[\u001b[49m\u001b[43m:\u001b[49m\u001b[43m,\u001b[49m\u001b[43m \u001b[49m\u001b[43mtarget\u001b[49m\u001b[43m]\u001b[49m \u001b[38;5;241m==\u001b[39m \u001b[38;5;241m1\u001b[39m)[\u001b[38;5;241m0\u001b[39m])\n\u001b[0;32m     39\u001b[0m     \u001b[38;5;28;01mif\u001b[39;00m target \u001b[38;5;129;01mnot\u001b[39;00m \u001b[38;5;129;01min\u001b[39;00m inds:\n\u001b[0;32m     40\u001b[0m         inds\u001b[38;5;241m.\u001b[39mappend(target)\n",
      "\u001b[1;31mTypeError\u001b[0m: 'NoneType' object is not subscriptable"
     ]
    }
   ],
   "source": [
    "re = mse_evaluate(dat, causal_matrix=cg)"
   ]
  }
 ],
 "metadata": {
  "kernelspec": {
   "display_name": "data",
   "language": "python",
   "name": "python3"
  },
  "language_info": {
   "codemirror_mode": {
    "name": "ipython",
    "version": 3
   },
   "file_extension": ".py",
   "mimetype": "text/x-python",
   "name": "python",
   "nbconvert_exporter": "python",
   "pygments_lexer": "ipython3",
   "version": "3.8.20"
  }
 },
 "nbformat": 4,
 "nbformat_minor": 5
}
